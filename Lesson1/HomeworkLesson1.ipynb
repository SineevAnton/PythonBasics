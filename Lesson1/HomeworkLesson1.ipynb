{
 "cells": [
  {
   "cell_type": "markdown",
   "metadata": {},
   "source": [
    "## <center> Homework </center>\n",
    "___\n",
    "### <center> Lesson 1. </center>\n",
    "___\n",
    "___"
   ]
  },
  {
   "cell_type": "markdown",
   "metadata": {},
   "source": [
    "<a id = 'toc'></a>\n",
    "### Table of contents\n",
    "___\n",
    "[1. Task 1.](#Task_1)\n",
    "   \n",
    "[2. Task 2.](#Task_2)\n",
    "   \n",
    "[3. Task 3.](#Task_3)\n",
    "   \n",
    "[4. Task 4.](#Task_4)\n",
    "   \n",
    "[5. Task 5.](#Task_5)\n",
    "\n",
    "[6. Task 6.](#Task_6)\n",
    "\n",
    "[7. Task 7.](#Task_7)\n",
    "   \n",
    "___\n",
    "___"
   ]
  },
  {
   "cell_type": "markdown",
   "metadata": {},
   "source": [
    "<a id = 'Task_1'></a>\n",
    "___\n",
    "### Task 1.\n",
    "\n",
    "Create some variables and print them.\n",
    "Ask user to input some numbers and strings, save this to the variables and print them. "
   ]
  },
  {
   "cell_type": "code",
   "execution_count": 1,
   "metadata": {},
   "outputs": [],
   "source": [
    "# Basic types in python\n",
    "\n",
    "intNum = 10\n",
    "floatNum = 1.1\n",
    "someString = \"I'm string\"\n",
    "someList = [1, 2.3, \"I can keep different tipes, even myself\", [\"see\", \"list in list\"]]\n",
    "someDict = {\"key1\" : \"value1\", \"key2\" : \"value2\"}\n",
    "someTuple = (\"I look like list\", \"but i'm immutable\", 2, 2.2)\n",
    "someSet = {\"I can't keep equal elements\", 2, \"sometimes it's very usefull\"}\n",
    "boolVal = True"
   ]
  },
  {
   "cell_type": "code",
   "execution_count": 2,
   "metadata": {},
   "outputs": [
    {
     "name": "stdout",
     "output_type": "stream",
     "text": [
      "10\n",
      "<class 'int'>\n",
      "1.1\n",
      "<class 'float'>\n",
      "I'm string\n",
      "<class 'str'>\n",
      "[1, 2.3, 'I can keep different tipes, even myself', ['see', 'list in list']]\n",
      "<class 'list'>\n",
      "{'key1': 'value1', 'key2': 'value2'}\n",
      "<class 'dict'>\n",
      "('I look like list', \"but i'm immutable\", 2, 2.2)\n",
      "<class 'tuple'>\n",
      "{\"I can't keep equal elements\", 2, \"sometimes it's very usefull\"}\n",
      "<class 'set'>\n",
      "True\n",
      "<class 'bool'>\n"
     ]
    }
   ],
   "source": [
    "# Output types\n",
    "print(intNum)\n",
    "print(type(intNum))\n",
    "print(floatNum)\n",
    "print(type(floatNum))\n",
    "print(someString)\n",
    "print(type(someString))\n",
    "print(someList)\n",
    "print(type(someList))\n",
    "print(someDict)\n",
    "print(type(someDict))\n",
    "print(someTuple)\n",
    "print(type(someTuple))\n",
    "print(someSet)\n",
    "print(type(someSet))\n",
    "print(boolVal)\n",
    "print(type(boolVal))"
   ]
  },
  {
   "cell_type": "code",
   "execution_count": 3,
   "metadata": {},
   "outputs": [
    {
     "name": "stdout",
     "output_type": "stream",
     "text": [
      "Please, enter an integer number\n",
      "1\n",
      "Please, enter a float number\n",
      "1.1\n",
      "Please, enter some string\n",
      "afasw\n",
      "Your int number is:  1\n",
      "Your float number is:  1.1\n",
      "Your string is:  afasw\n"
     ]
    }
   ],
   "source": [
    "# User input\n",
    "\n",
    "print(\"Please, enter an integer number\")\n",
    "userInt = int(input())\n",
    "print(\"Please, enter a float number\")\n",
    "userFloat = float(input())\n",
    "print(\"Please, enter some string\")\n",
    "userString = input()\n",
    "\n",
    "print(\"Your int number is: \", userInt)\n",
    "print(\"Your float number is: \", userFloat)\n",
    "print(\"Your string is: \", userString)"
   ]
  },
  {
   "cell_type": "markdown",
   "metadata": {},
   "source": [
    "[Back to table of contents.](#toc)\n",
    "___"
   ]
  },
  {
   "cell_type": "markdown",
   "metadata": {},
   "source": [
    "<a id = 'Task_2'></a>\n",
    "___\n",
    "### Task 2.\n",
    "\n",
    "The user enters time in seconds. You should convert this value inti hh:mm:ss format using f-strings."
   ]
  },
  {
   "cell_type": "code",
   "execution_count": 4,
   "metadata": {},
   "outputs": [
    {
     "name": "stdout",
     "output_type": "stream",
     "text": [
      "Please, enter time in seconds.\n",
      "4591\n",
      "Exact time is 01:16:31\n"
     ]
    }
   ],
   "source": [
    "print(\"Please, enter time in seconds.\")\n",
    "seconds = int(input())\n",
    "hours = seconds // 3600\n",
    "secondsRemaining = seconds % 3600\n",
    "minutes = secondsRemaining // 60\n",
    "secondsRemaining = secondsRemaining % 60\n",
    "print(f\"Exact time is {hours:02}:{minutes:02}:{secondsRemaining:02}\")"
   ]
  },
  {
   "cell_type": "markdown",
   "metadata": {},
   "source": [
    "[Back to table of contents.](#toc)\n",
    "___"
   ]
  },
  {
   "cell_type": "markdown",
   "metadata": {},
   "source": [
    "<a id = 'Task_3'></a>\n",
    "___\n",
    "### Task 3.\n",
    "\n",
    "The user enters a number n. Find the sum of this: n + nn + nnn.\n",
    "Example: user entered 3. 3 + 33 + 333 = 369"
   ]
  },
  {
   "cell_type": "code",
   "execution_count": 5,
   "metadata": {},
   "outputs": [
    {
     "name": "stdout",
     "output_type": "stream",
     "text": [
      "Please, enter number.\n",
      "5\n",
      "Answer is:  615\n"
     ]
    }
   ],
   "source": [
    "print(\"Please, enter number.\")\n",
    "num = int(input())\n",
    "print(\"Answer is: \", num + (num * 10 + num) + (num * 100 + num * 10 + num))"
   ]
  },
  {
   "cell_type": "markdown",
   "metadata": {},
   "source": [
    "[Back to table of contents.](#toc)\n",
    "___"
   ]
  },
  {
   "cell_type": "markdown",
   "metadata": {},
   "source": [
    "<a id = 'Task_4'></a>\n",
    "___\n",
    "### Task 4.\n",
    "\n",
    "The user enters an integer number highter than zero.\n",
    "Find the maximum digit in this number."
   ]
  },
  {
   "cell_type": "code",
   "execution_count": 6,
   "metadata": {},
   "outputs": [
    {
     "name": "stdout",
     "output_type": "stream",
     "text": [
      "Please, enter number.\n",
      "8\n",
      "Maximum digit is:  8\n"
     ]
    }
   ],
   "source": [
    "print(\"Please, enter number.\")\n",
    "num = int(input())\n",
    "maxNum = 0\n",
    "while (num > 0):\n",
    "    if (num % 10 > maxNum):\n",
    "        maxNum = num % 10\n",
    "    num = num // 10\n",
    "print(f\"Maximum digit is: \", maxNum)       "
   ]
  },
  {
   "cell_type": "markdown",
   "metadata": {},
   "source": [
    "[Back to table of contents.](#toc)\n",
    "___"
   ]
  },
  {
   "cell_type": "markdown",
   "metadata": {},
   "source": [
    "<a id = 'Task_5'></a>\n",
    "___\n",
    "### Task 5.\n",
    "\n",
    "Ask user to type revenue and costs of the company.\n",
    "Determine what financial result the company is working with."
   ]
  },
  {
   "cell_type": "code",
   "execution_count": 6,
   "metadata": {},
   "outputs": [
    {
     "name": "stdout",
     "output_type": "stream",
     "text": [
      "Please, enter revenue.\n",
      "20\n",
      "Please, enter costs.\n",
      "10\n",
      "The company makes a profit!\n"
     ]
    }
   ],
   "source": [
    "print(\"Please, enter revenue.\")\n",
    "revenue = int(input())\n",
    "print(\"Please, enter costs.\")\n",
    "costs = int(input())\n",
    "if (revenue > costs):\n",
    "    print(\"The company makes a profit!\")\n",
    "else:\n",
    "    print(\"The company operates at a loss...(\")"
   ]
  },
  {
   "cell_type": "markdown",
   "metadata": {},
   "source": [
    "[Back to table of contents.](#toc)\n",
    "___"
   ]
  },
  {
   "cell_type": "markdown",
   "metadata": {},
   "source": [
    "<a id = 'Task_6'></a>\n",
    "___\n",
    "### Task 6.\n",
    "\n",
    "If the company has worked with profit, calculate the profitability of revenue.\n",
    "This is the ratio of profit to revenue. Next, request the number of employees of the company and determine the company's profit per employee."
   ]
  },
  {
   "cell_type": "code",
   "execution_count": 8,
   "metadata": {},
   "outputs": [
    {
     "name": "stdout",
     "output_type": "stream",
     "text": [
      "Please, enter revenue.\n",
      "20\n",
      "Please, enter costs.\n",
      "10\n",
      "Profitability of revenue is: 0.50\n",
      "How many employees in your company?\n",
      "2\n",
      "Profit per employee is: 0.25\n"
     ]
    }
   ],
   "source": [
    "print(\"Please, enter revenue.\")\n",
    "revenue = float(input())\n",
    "print(\"Please, enter costs.\")\n",
    "costs = float(input())\n",
    "if (revenue < costs):\n",
    "    print(\"The company operates at a loss...(\")\n",
    "else:\n",
    "    profitability = (revenue - costs) / revenue\n",
    "    print(f\"Profitability of revenue is: {profitability:.2f}\")\n",
    "    print(\"How many employees in your company?\")\n",
    "    employees = int(input())\n",
    "    print(f\"Profit per employee is: {profitability / employees:.2f}\")"
   ]
  },
  {
   "cell_type": "markdown",
   "metadata": {},
   "source": [
    "[Back to table of contents.](#toc)\n",
    "___"
   ]
  },
  {
   "cell_type": "markdown",
   "metadata": {},
   "source": [
    "<a id = 'Task_7'></a>\n",
    "___\n",
    "### Task 7.\n",
    "\n",
    "The athlete is engaged in daily jogging. On the first day, his result was 'a' kilometers. Every day the athlete increased the result by 10% relative to the previous one. It is required to determine the number of the day on which the athlete's result will be at least 'b' kilometers. The program should take the values of parameters 'a' and 'b' and output one natural number — the number of the day."
   ]
  },
  {
   "cell_type": "code",
   "execution_count": 9,
   "metadata": {},
   "outputs": [
    {
     "name": "stdout",
     "output_type": "stream",
     "text": [
      "Enter the count of kilometers at the begining of training\n",
      "6\n",
      "Enter the target kilometers count\n",
      "10\n",
      "7\n"
     ]
    }
   ],
   "source": [
    "print(\"Enter the count of kilometers at the begining of training\")\n",
    "a = int(input())\n",
    "print(\"Enter the target kilometers count\")\n",
    "b = int(input())\n",
    "day = 1\n",
    "while (a < b):\n",
    "    a *= 1.1\n",
    "    day += 1\n",
    "print(day)"
   ]
  },
  {
   "cell_type": "markdown",
   "metadata": {},
   "source": [
    "[Back to table of contents.](#toc)\n",
    "___"
   ]
  },
  {
   "cell_type": "code",
   "execution_count": null,
   "metadata": {},
   "outputs": [],
   "source": []
  }
 ],
 "metadata": {
  "kernelspec": {
   "display_name": "Python 3",
   "language": "python",
   "name": "python3"
  },
  "language_info": {
   "codemirror_mode": {
    "name": "ipython",
    "version": 3
   },
   "file_extension": ".py",
   "mimetype": "text/x-python",
   "name": "python",
   "nbconvert_exporter": "python",
   "pygments_lexer": "ipython3",
   "version": "3.8.8"
  }
 },
 "nbformat": 4,
 "nbformat_minor": 4
}
