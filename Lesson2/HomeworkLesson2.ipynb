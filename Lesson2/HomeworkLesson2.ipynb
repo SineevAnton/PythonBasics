{
 "cells": [
  {
   "cell_type": "markdown",
   "metadata": {},
   "source": [
    "## <center> Homework </center>\n",
    "___\n",
    "### <center> Lesson 2. </center>\n",
    "___\n",
    "___"
   ]
  },
  {
   "cell_type": "markdown",
   "metadata": {},
   "source": [
    "<a id = 'toc'></a>\n",
    "### Table of contents\n",
    "___\n",
    "[1. Task 1.](#Task_1)\n",
    "   \n",
    "[2. Task 2.](#Task_2)\n",
    "   \n",
    "[3. Task 3.](#Task_3)\n",
    "   \n",
    "[4. Task 4.](#Task_4)\n",
    "   \n",
    "[5. Task 5.](#Task_5)\n",
    "\n",
    "[6. Task 6.](#Task_6)\n",
    "   \n",
    "___\n",
    "___"
   ]
  },
  {
   "cell_type": "markdown",
   "metadata": {},
   "source": [
    "<a id = 'Task_1'></a>\n",
    "___\n",
    "### Task 1.\n",
    "\n",
    "Create a list and fill it with elements of various data types. Implement a script to check the data type of each element. Use the type() function to check the type. The list items can not be requested from the user, but specified explicitly in the program."
   ]
  },
  {
   "cell_type": "code",
   "execution_count": 1,
   "metadata": {},
   "outputs": [
    {
     "name": "stdout",
     "output_type": "stream",
     "text": [
      "The type of 1 is <class 'int'>\n",
      "The type of 1.1 is <class 'float'>\n",
      "The type of some string is <class 'str'>\n",
      "The type of [1, 'c'] is <class 'list'>\n",
      "The type of {1: 'one', 2: 'two'} is <class 'dict'>\n",
      "The type of (1, 2) is <class 'tuple'>\n"
     ]
    }
   ],
   "source": [
    "myList = [1, 1.1, \"some string\", [1, 'c'], {1:\"one\", 2:\"two\"}, (1, 2)]\n",
    "for element in myList:\n",
    "    print(f\"The type of {element} is {type(element)}\")"
   ]
  },
  {
   "cell_type": "markdown",
   "metadata": {},
   "source": [
    "[Back to table of contents.](#toc)\n",
    "___"
   ]
  },
  {
   "cell_type": "markdown",
   "metadata": {},
   "source": [
    "<a id = 'Task_2'></a>\n",
    "___\n",
    "### Task 2.\n",
    "\n",
    "For a list, implement the exchange of values of neighboring elements. Values are exchanged between elements with indexes 0 and 1, 2 and 3, etc. If there are an odd number of elements, keep the last one in its place. To fill in the list of elements, use the input() function."
   ]
  },
  {
   "cell_type": "code",
   "execution_count": 27,
   "metadata": {
    "scrolled": false
   },
   "outputs": [
    {
     "name": "stdout",
     "output_type": "stream",
     "text": [
      "Type elements of the list. Type 'exit' to stop.\n",
      "3\n",
      "4\n",
      "5\n",
      "6\n",
      "7\n",
      "exit\n",
      "Original list is:  ['3', '4', '5', '6', '7']\n",
      "Changed list is:  ['4', '3', '6', '5', '7']\n"
     ]
    }
   ],
   "source": [
    "taskTwoList = []\n",
    "print(\"Type elements of the list. Type 'exit' to stop.\")\n",
    "while(True):\n",
    "    el = input()\n",
    "    if el == 'exit':\n",
    "        break\n",
    "    else:\n",
    "        taskTwoList.append(el)\n",
    "print(\"Original list is: \", taskTwoList)\n",
    "for i in range(0, len(taskTwoList) -1, 2):\n",
    "    taskTwoList[i], taskTwoList[i + 1] = taskTwoList[i + 1], taskTwoList[i]\n",
    "print(\"Changed list is: \", taskTwoList)"
   ]
  },
  {
   "cell_type": "markdown",
   "metadata": {},
   "source": [
    "[Back to table of contents.](#toc)\n",
    "___"
   ]
  },
  {
   "cell_type": "markdown",
   "metadata": {},
   "source": [
    "<a id = 'Task_3'></a>\n",
    "___\n",
    "### Task 3.\n",
    "\n",
    "The user enters the month as an integer from 1 to 12. Let us know what time of year the month belongs to (winter, spring, summer, autumn). Write the solution via list and dict."
   ]
  },
  {
   "cell_type": "code",
   "execution_count": 31,
   "metadata": {},
   "outputs": [
    {
     "name": "stdout",
     "output_type": "stream",
     "text": [
      "Please enter a month number (from 1 to 12): 4\n",
      "From list season is: Spring\n",
      "From dict season is: Spring\n"
     ]
    }
   ],
   "source": [
    "monthNumber = int(input(\"Please enter a month number (from 1 to 12): \"))\n",
    "seasonList = [\"Winter\",\"Winter\",\"Spring\",\"Spring\",\"Spring\",\"Summer\",\"Summer\",\"Summer\",\n",
    "              \"Autumn\",\"Autumn\",\"Autumn\",\"Winter\"]\n",
    "seasonDict = {1:\"Winter\",\n",
    "             2:\"Winter\",\n",
    "             3:\"Spring\",\n",
    "             4:\"Spring\",\n",
    "             5:\"Spring\",\n",
    "             6:\"Summer\",\n",
    "             7:\"Summer\",\n",
    "             8:\"Summer\",\n",
    "             9:\"Autumn\",\n",
    "             10:\"Autumn\",\n",
    "             11:\"Autumn\",\n",
    "             12:\"Winter\"}\n",
    "print(f\"From list season is: {seasonList[monthNumber - 1]}\")\n",
    "print(f\"From dict season is: {seasonDict[monthNumber]}\")"
   ]
  },
  {
   "cell_type": "markdown",
   "metadata": {},
   "source": [
    "[Back to table of contents.](#toc)\n",
    "___"
   ]
  },
  {
   "cell_type": "markdown",
   "metadata": {},
   "source": [
    "<a id = 'Task_4'></a>\n",
    "___\n",
    "### Task 4.\n",
    "\n",
    "The user enters a string of several words separated by spaces. Print each word from a new line. The lines need to be numbered. If the word is long, print only the first 10 letters in the word."
   ]
  },
  {
   "cell_type": "code",
   "execution_count": 32,
   "metadata": {},
   "outputs": [
    {
     "name": "stdout",
     "output_type": "stream",
     "text": [
      "Enter some words, useng space as a delimiter.\n",
      "This is some string with different wors, including veryyyyyyyyyyyyy loooooooooooong woooorrdddsssssssss\n",
      "Line number 0, word: This\n",
      "Line number 1, word: is\n",
      "Line number 2, word: some\n",
      "Line number 3, word: string\n",
      "Line number 4, word: with\n",
      "Line number 5, word: different\n",
      "Line number 6, word: wors,\n",
      "Line number 7, word: including\n",
      "Line number 8, word: veryyyyyyy\n",
      "Line number 9, word: looooooooo\n",
      "Line number 10, word: woooorrddd\n"
     ]
    }
   ],
   "source": [
    "print(\"Enter some words, useng space as a delimiter.\")\n",
    "wordList = [word for word in input().split()]\n",
    "for i in range(len(wordList)):\n",
    "    print(f\"Line number {i}, word: {wordList[i][:10]}\")"
   ]
  },
  {
   "cell_type": "markdown",
   "metadata": {},
   "source": [
    "[Back to table of contents.](#toc)\n",
    "___"
   ]
  },
  {
   "cell_type": "markdown",
   "metadata": {},
   "source": [
    "<a id = 'Task_5'></a>\n",
    "___\n",
    "### Task 5.\n",
    "\n",
    "Implement the \"Rating\" structure, which is a set of natural numbers that does not increase. You need to request a new rating element from the user. If there are elements with the same values in the rating, then a new element with the same value should be placed after them.\n",
    "\n",
    "For example, a set of natural numbers: 7, 5, 3, 3, 2.\n",
    "\n",
    "The user entered the number 3. The result: 7, 5, 3, 3, 3, 2.\n",
    "\n",
    "The user entered the number 8. The result: 8, 7, 5, 3, 3, 2.\n",
    "\n",
    "The user entered the number 1. Result: 7, 5, 3, 3, 2, 1.\n",
    "\n",
    "A set of natural numbers can be set immediately in the code, for example, my_list = [7, 5, 3, 3, 2]."
   ]
  },
  {
   "cell_type": "code",
   "execution_count": 10,
   "metadata": {},
   "outputs": [
    {
     "name": "stdout",
     "output_type": "stream",
     "text": [
      "Current rating is:  [7, 5, 3, 3, 2]\n",
      "Enter rating as an integer number. Type 'exit' to stop.\n",
      "1\n",
      "Current rating is:  [7, 5, 3, 3, 2, 1]\n",
      "0\n",
      "Current rating is:  [7, 5, 3, 3, 2, 1, 0]\n",
      "-1\n",
      "Current rating is:  [7, 5, 3, 3, 2, 1, 0, -1]\n",
      "10\n",
      "Current rating is:  [10, 7, 5, 3, 3, 2, 1, 0, -1]\n",
      "6\n",
      "Current rating is:  [10, 7, 6, 5, 3, 3, 2, 1, 0, -1]\n",
      "4\n",
      "Current rating is:  [10, 7, 6, 5, 4, 3, 3, 2, 1, 0, -1]\n",
      "exit\n"
     ]
    }
   ],
   "source": [
    "ratingList = [7, 5, 3, 3, 2]\n",
    "print(\"Current rating is: \", ratingList)\n",
    "print(\"Enter rating as an integer number. Type 'exit' to stop.\")\n",
    "while (True):\n",
    "    rating = input()\n",
    "    if rating == 'exit':\n",
    "        break\n",
    "    else:\n",
    "        rating = int(rating)\n",
    "        if rating in ratingList:\n",
    "            # Next two lines allow us to get index of the last entry of the element\n",
    "            reversedListIndex = ratingList[::-1].index(rating)\n",
    "            originalListIndex = len(ratingList) - 1 - reversedListIndex\n",
    "            ratingList.insert(originalListIndex + 1, rating)\n",
    "        else:\n",
    "            for i in range(len(ratingList)):\n",
    "                if rating < ratingList[-1]:\n",
    "                    ratingList.append(rating)\n",
    "                    break\n",
    "                elif rating > ratingList[i]:\n",
    "                    ratingList.insert(i, rating)\n",
    "                    break\n",
    "    print(\"Current rating is: \", ratingList)"
   ]
  },
  {
   "cell_type": "markdown",
   "metadata": {},
   "source": [
    "[Back to table of contents.](#toc)\n",
    "___"
   ]
  },
  {
   "cell_type": "markdown",
   "metadata": {},
   "source": [
    "<a id = 'Task_6'></a>\n",
    "___\n",
    "### Task 6.\n",
    "\n",
    "Implement the \"Products\" data structure. It should be a list of tuples. Each tuple stores information about a separate product. There should be two elements in the tuple — the product number and a dictionary with parameters, that is, the characteristics of the product: name, price, quantity, unit of measurement. The structure must be formed programmatically by requesting all the data from the user.\n",
    "\n",
    "We need to collect analytics about products. Implement a dictionary in which each key is a characteristic of the product, for example, the name. Then the value is a list of characteristic values, for example, a list of product names."
   ]
  },
  {
   "cell_type": "code",
   "execution_count": 3,
   "metadata": {},
   "outputs": [
    {
     "name": "stdout",
     "output_type": "stream",
     "text": [
      "{'название': ['компьютер', 'принтер', 'сканер'],\n",
      " 'цена': [20000, 6000, 2000],\n",
      " 'количество': [5, 2, 7],\n",
      " 'eд': ['шт.']}\n"
     ]
    }
   ],
   "source": [
    "goods = [\n",
    "(1, {\"название\": \"компьютер\", \"цена\": 20000, \"количество\": 5, \"eд\": \"шт.\"}),\n",
    "(2, {\"название\": \"принтер\", \"цена\": 6000, \"количество\": 2, \"eд\": \"шт.\"}),\n",
    "(3, {\"название\": \"сканер\", \"цена\": 2000, \"количество\": 7, \"eд\": \"шт.\"})\n",
    "]\n",
    "\n",
    "analitics = {}\n",
    "\n",
    "for element in goods:\n",
    "    for key in element[1]:\n",
    "        analitics[key] = []\n",
    "for element in goods:\n",
    "    for key in element[1]:\n",
    "        if element[1][key] not in analitics[key]:\n",
    "            analitics[key].append(element[1][key])\n",
    "\n",
    "from pprint import pprint \n",
    "pprint(analitics, sort_dicts = False)"
   ]
  },
  {
   "cell_type": "markdown",
   "metadata": {},
   "source": [
    "[Back to table of contents.](#toc)\n",
    "___"
   ]
  }
 ],
 "metadata": {
  "kernelspec": {
   "display_name": "Python 3",
   "language": "python",
   "name": "python3"
  },
  "language_info": {
   "codemirror_mode": {
    "name": "ipython",
    "version": 3
   },
   "file_extension": ".py",
   "mimetype": "text/x-python",
   "name": "python",
   "nbconvert_exporter": "python",
   "pygments_lexer": "ipython3",
   "version": "3.8.8"
  }
 },
 "nbformat": 4,
 "nbformat_minor": 4
}
