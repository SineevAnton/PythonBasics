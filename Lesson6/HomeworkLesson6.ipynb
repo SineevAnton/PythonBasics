{
 "cells": [
  {
   "cell_type": "markdown",
   "metadata": {},
   "source": [
    "## <center> Homework </center>\n",
    "___\n",
    "### <center> Lesson 6. </center>\n",
    "___\n",
    "___"
   ]
  },
  {
   "cell_type": "markdown",
   "metadata": {},
   "source": [
    "<a id = 'toc'></a>\n",
    "### Table of contents\n",
    "___\n",
    "[1. Task 1.](#Task_1)\n",
    "   \n",
    "[2. Task 2.](#Task_2)\n",
    "   \n",
    "[3. Task 3.](#Task_3)\n",
    "   \n",
    "[4. Task 4.](#Task_4)\n",
    "   \n",
    "[5. Task 5.](#Task_5)\n",
    "   \n",
    "___\n",
    "___"
   ]
  },
  {
   "cell_type": "markdown",
   "metadata": {},
   "source": [
    "<a id = 'Task_1'></a>\n",
    "___\n",
    "### Task 1.\n",
    "\n",
    "Создать класс TrafficLight (светофор) и определить у него один атрибут color (цвет) и метод running (запуск). \n",
    "Атрибут реализовать как приватный. В рамках метода реализовать переключение светофора в режимы: красный, желтый, зеленый. \n",
    "Продолжительность первого состояния (красный) составляет 7 секунд, второго (желтый) — 2 секунды, \n",
    "третьего (зеленый) — на ваше усмотрение. Переключение между режимами должно осуществляться только в \n",
    "указанном порядке (красный, желтый, зеленый). Проверить работу примера, создав экземпляр и вызвав описанный метод.\n",
    "Задачу можно усложнить, реализовав проверку порядка режимов, и при его нарушении выводить соответствующее сообщение \n",
    "и завершать скрипт.\n"
   ]
  },
  {
   "cell_type": "code",
   "execution_count": 8,
   "metadata": {},
   "outputs": [],
   "source": [
    "from ipywidgets import IntProgress\n",
    "from IPython.display import display\n",
    "import time\n",
    "\n",
    "def showPB(timeDelay):\n",
    "    max_count = timeDelay\n",
    "    f = IntProgress(min=0, max=max_count)\n",
    "    display(f)\n",
    "    count = 0\n",
    "    while count <= max_count:\n",
    "        f.value += 1\n",
    "        time.sleep(1)\n",
    "        count += 1 "
   ]
  },
  {
   "cell_type": "code",
   "execution_count": 9,
   "metadata": {
    "scrolled": true
   },
   "outputs": [
    {
     "name": "stdout",
     "output_type": "stream",
     "text": [
      "TrafficLight mode is red\n"
     ]
    },
    {
     "data": {
      "application/vnd.jupyter.widget-view+json": {
       "model_id": "c925b8c5bbe84bc2a35c04517f55c536",
       "version_major": 2,
       "version_minor": 0
      },
      "text/plain": [
       "IntProgress(value=0, max=7)"
      ]
     },
     "metadata": {},
     "output_type": "display_data"
    },
    {
     "name": "stdout",
     "output_type": "stream",
     "text": [
      "TrafficLight mode is yellow\n"
     ]
    },
    {
     "data": {
      "application/vnd.jupyter.widget-view+json": {
       "model_id": "43ee64cc933b494fb1ab2336e15f6527",
       "version_major": 2,
       "version_minor": 0
      },
      "text/plain": [
       "IntProgress(value=0, max=2)"
      ]
     },
     "metadata": {},
     "output_type": "display_data"
    },
    {
     "name": "stdout",
     "output_type": "stream",
     "text": [
      "TrafficLight mode is green\n"
     ]
    },
    {
     "data": {
      "application/vnd.jupyter.widget-view+json": {
       "model_id": "1abb4c089339443eac2aa979e7ed3c3f",
       "version_major": 2,
       "version_minor": 0
      },
      "text/plain": [
       "IntProgress(value=0, max=5)"
      ]
     },
     "metadata": {},
     "output_type": "display_data"
    }
   ],
   "source": [
    "import time\n",
    "\n",
    "class TrafficLight:\n",
    "    __color = [\"red\", \"yellow\", \"green\"]\n",
    "\n",
    "    def running(self):\n",
    "        i = 0\n",
    "        for i in range(3):\n",
    "            print(f'TrafficLight mode is { TrafficLight.__color[i]}')\n",
    "            if i == 0:\n",
    "                showPB(7)\n",
    "            if i == 1:\n",
    "                showPB(2)\n",
    "            if i == 2:\n",
    "                showPB(5)\n",
    "\n",
    "\n",
    "tl = TrafficLight()\n",
    "tl.running()"
   ]
  },
  {
   "cell_type": "markdown",
   "metadata": {},
   "source": [
    "[Back to table of contents.](#toc)\n",
    "___"
   ]
  },
  {
   "cell_type": "markdown",
   "metadata": {},
   "source": [
    "<a id = 'Task_2'></a>\n",
    "___\n",
    "### Task 2.\n",
    "\n",
    "Реализовать класс Road (дорога), в котором определить атрибуты: length (длина), width (ширина). \n",
    "Значения данных атрибутов должны передаваться при создании экземпляра класса. \n",
    "Атрибуты сделать защищенными. Определить метод расчета массы асфальта, необходимого для покрытия всего дорожного полотна. \n",
    "Использовать формулу: длина * ширина * масса асфальта для покрытия одного кв метра дороги асфальтом, \n",
    "толщиной в 1 см * чи сло см толщины полотна. Проверить работу метода.\n",
    "Например: 20м * 5000м * 25кг * 5см = 12500 т"
   ]
  },
  {
   "cell_type": "code",
   "execution_count": 10,
   "metadata": {
    "scrolled": true
   },
   "outputs": [
    {
     "name": "stdout",
     "output_type": "stream",
     "text": [
      "Input road length (in meters): 1000\n",
      "Input road width (in meters): 4\n",
      "Mass of asphalt = 500.0 t\n"
     ]
    }
   ],
   "source": [
    "class Road:    \n",
    "    def __init__(self, length, width):\n",
    "        self._length = length\n",
    "        self._width = width\n",
    "        self.depth = 5   # initial coverage depth (in sm)\n",
    "        self.mass_per_sq_m = 25  # initial mass per square meter (in kg)\n",
    "    def mass_count(self):\n",
    "        return (self._width * self._length * self.depth * self.mass_per_sq_m)/1000\n",
    "\n",
    "road_length = int(input(\"Input road length (in meters): \"))\n",
    "road_width = int(input(\"Input road width (in meters): \"))\n",
    "road = Road(road_length, road_width)\n",
    "mass = road.mass_count()\n",
    "print(f'Mass of asphalt = {mass} t')"
   ]
  },
  {
   "cell_type": "markdown",
   "metadata": {},
   "source": [
    "[Back to table of contents.](#toc)\n",
    "___"
   ]
  },
  {
   "cell_type": "markdown",
   "metadata": {},
   "source": [
    "<a id = 'Task_3'></a>\n",
    "___\n",
    "### Task 3.\n",
    "\n",
    "Реализовать базовый класс Worker (работник).\n",
    "определить атрибуты: name, surname, position (должность), income (доход);\n",
    "последний атрибут должен быть защищённым и ссылаться на словарь, содержащий элементы: оклад и премия, например, {\"wage\": wage, \"bonus\": bonus};\n",
    "создать класс Position (должность) на базе класса Worker;\n",
    "в классе Position реализовать методы получения полного имени сотрудника (get_full_name) и дохода с учётом премии (get_total_income);\n",
    "проверить работу примера на реальных данных: создать экземпляры класса Position, передать данные, проверить значения атрибутов, вызвать методы экземпляров."
   ]
  },
  {
   "cell_type": "code",
   "execution_count": 2,
   "metadata": {
    "scrolled": false
   },
   "outputs": [
    {
     "name": "stdout",
     "output_type": "stream",
     "text": [
      "Full name is: Name Surname\n",
      "Position of the worker is: Position\n",
      "Total income is: 75000\n",
      "Full name is: Namea Surnamea\n",
      "Position of the worker is: Position\n",
      "Total income is: 75002\n"
     ]
    }
   ],
   "source": [
    "class Worker:\n",
    "    def __init__(self, name, surname, position, income):\n",
    "        self._name = name\n",
    "        self._surname = surname\n",
    "        self.__position = position\n",
    "        self._income = income   # {\"wage\": wage, \"bonus\": bonus}\n",
    "\n",
    "    def get_position(self):\n",
    "        return self.__position\n",
    "\n",
    "\n",
    "class Position(Worker):\n",
    "    def __init__(self, name, surname, position, income):\n",
    "        super().__init__(name, surname, position, income)\n",
    "\n",
    "    def get_full_name(self):\n",
    "        return \" \".join([self._name, self._surname])\n",
    "\n",
    "    def get_total_income(self):\n",
    "        return self._income[\"wage\"] + self._income[\"bonus\"]\n",
    "\n",
    "\n",
    "worker_name = 'Name'\n",
    "worker_surname = 'Surname'\n",
    "worker_position = 'Position'\n",
    "worker_wage = 50000\n",
    "worker_bonus = 25000\n",
    "pos = Position(worker_name, worker_surname, worker_position, {\"wage\": worker_wage, \"bonus\": worker_bonus})\n",
    "print(f'Full name is: {pos.get_full_name()}')\n",
    "print(f'Position of the worker is: {pos.get_position()}')\n",
    "print(f'Total income is: {pos.get_total_income()}')\n",
    "pos2 = Position(worker_name+'a', worker_surname+'a', worker_position, {\"wage\": worker_wage+1, \"bonus\": worker_bonus+1})\n",
    "print(f'Full name is: {pos2.get_full_name()}')\n",
    "print(f'Position of the worker is: {pos2.get_position()}')\n",
    "print(f'Total income is: {pos2.get_total_income()}')"
   ]
  },
  {
   "cell_type": "markdown",
   "metadata": {},
   "source": [
    "[Back to table of contents.](#toc)\n",
    "___"
   ]
  },
  {
   "cell_type": "markdown",
   "metadata": {},
   "source": [
    "<a id = 'Task_4'></a>\n",
    "___\n",
    "### Task 4.\n",
    "\n",
    "Реализуйте базовый класс Car.\n",
    "у класса должны быть следующие атрибуты: speed, color, name, is_police (булево). А также методы: go, stop, turn(direction), которые должны сообщать, что машина поехала, остановилась, повернула (куда);\n",
    "опишите несколько дочерних классов: TownCar, SportCar, WorkCar, PoliceCar;\n",
    "добавьте в базовый класс метод show_speed, который должен показывать текущую скорость автомобиля;\n",
    "для классов TownCar и WorkCar переопределите метод show_speed. При значении скорости свыше 60 (TownCar) и 40 (WorkCar) должно выводиться сообщение о превышении скорости.\n",
    "Создайте экземпляры классов, передайте значения атрибутов. Выполните доступ к атрибутам, выведите результат. Вызовите методы и покажите результат."
   ]
  },
  {
   "cell_type": "code",
   "execution_count": 4,
   "metadata": {
    "scrolled": true
   },
   "outputs": [
    {
     "name": "stdout",
     "output_type": "stream",
     "text": [
      "Red TownCar is running!\n",
      "Red TownCar turned Left\n",
      "Red TownCar turned Right\n",
      "Current car speed = 65\n",
      "Over speed for town car!\n",
      "The car is police:  False\n",
      "Red TownCar stopped\n",
      "Yellow WorkCar is running!\n",
      "Yellow WorkCar turned Left\n",
      "Yellow WorkCar turned Right\n",
      "Current car speed = 45\n",
      "Over speed for work car!\n",
      "The car is police:  False\n",
      "Yellow WorkCar stopped\n",
      "Blue PoliceCar is running!\n",
      "Blue PoliceCar turned Left\n",
      "Blue PoliceCar turned Right\n",
      "Current car speed = 120\n",
      "The car is police:  True\n",
      "Blue PoliceCar stopped\n"
     ]
    }
   ],
   "source": [
    "class Car:\n",
    "    def __init__(self, speed, color, name, is_police):\n",
    "        self._speed = speed\n",
    "        self.__color = color\n",
    "        self.__name = name\n",
    "        self.__is_police = is_police\n",
    "\n",
    "    def go(self):\n",
    "        print(f'{self.__color} {self.__name} is running!')\n",
    "\n",
    "    def stop(self):\n",
    "        print(f'{self.__color} {self.__name} stopped')\n",
    "\n",
    "    def turn_direction(self, direction):\n",
    "        print(f'{self.__color} {self.__name} turned {direction}')\n",
    "\n",
    "    def show_speed(self):\n",
    "        print(f'Current car speed = {self._speed}')\n",
    "\n",
    "    def is_police_car(self):\n",
    "        return self.__is_police\n",
    "\n",
    "\n",
    "class TownCar(Car):\n",
    "    def __init__(self, speed, color, name):\n",
    "        super().__init__(speed, color, name, False)\n",
    "\n",
    "    def show_speed(self):\n",
    "        super().show_speed()\n",
    "        if self._speed > 60:\n",
    "            print(\"Over speed for town car!\")\n",
    "\n",
    "\n",
    "class SportCar(Car):\n",
    "    def __init__(self, speed, color, name):\n",
    "        super().__init__(speed, color, name, False)\n",
    "\n",
    "\n",
    "class WorkCar(Car):\n",
    "    def __init__(self, speed, color, name):\n",
    "        super().__init__(speed, color, name, False)\n",
    "\n",
    "    def show_speed(self):\n",
    "        super().show_speed()\n",
    "        if self._speed > 40:\n",
    "            print(\"Over speed for work car!\")\n",
    "\n",
    "\n",
    "class PoliceCar(Car):\n",
    "    def __init__(self, speed, color, name):\n",
    "        super().__init__(speed, color, name, True)\n",
    "\n",
    "\n",
    "def operations_with_car(car):\n",
    "    car.go()\n",
    "    car.turn_direction(\"Left\")\n",
    "    car.turn_direction(\"Right\")\n",
    "    car.show_speed()\n",
    "    print(\"The car is police: \", car.is_police_car())\n",
    "    car.stop()\n",
    "\n",
    "speed = 65\n",
    "color = 'Red'\n",
    "name = 'TownCar'\n",
    "town_car = TownCar(speed, color, name)\n",
    "operations_with_car(town_car)\n",
    "speed = 45\n",
    "color = 'Yellow'\n",
    "name = 'WorkCar'\n",
    "work_car = WorkCar(speed, color, name)\n",
    "operations_with_car(work_car)\n",
    "speed = 120\n",
    "color = 'Blue'\n",
    "name = 'PoliceCar'\n",
    "police_car = PoliceCar(speed, color, name)\n",
    "operations_with_car(police_car)"
   ]
  },
  {
   "cell_type": "markdown",
   "metadata": {},
   "source": [
    "[Back to table of contents.](#toc)\n",
    "___"
   ]
  },
  {
   "cell_type": "markdown",
   "metadata": {},
   "source": [
    "<a id = 'Task_5'></a>\n",
    "___\n",
    "### Task 5.\n",
    "\n",
    "Реализовать класс Stationery (канцелярская принадлежность).\n",
    "определить в нём атрибут title (название) и метод draw (отрисовка). Метод выводит сообщение «Запуск отрисовки»;\n",
    "создать три дочерних класса Pen (ручка), Pencil (карандаш), Handle (маркер);\n",
    "в каждом классе реализовать переопределение метода draw. Для каждого класса метод должен выводить уникальное сообщение;\n",
    "создать экземпляры классов и проверить, что выведет описанный метод для каждого экземпляра."
   ]
  },
  {
   "cell_type": "code",
   "execution_count": 5,
   "metadata": {
    "scrolled": true
   },
   "outputs": [
    {
     "name": "stdout",
     "output_type": "stream",
     "text": [
      "Parent title: Start drawing in parent class\n",
      "Pen Title: Start drawing child class Pen\n",
      "Pencil Title: Start drawing child class Pencil\n",
      "Handle Title: Start drawing child class Handle\n"
     ]
    }
   ],
   "source": [
    "class Stationery:\n",
    "    def __init__(self, title):\n",
    "        self._title = title\n",
    "\n",
    "    def draw(self):\n",
    "        print(f'{self._title}: Start drawing in parent class')\n",
    "\n",
    "\n",
    "class Pen(Stationery):\n",
    "    def draw(self):\n",
    "        print(f'{self._title}: Start drawing child class Pen')\n",
    "\n",
    "\n",
    "class Pencil(Stationery):\n",
    "    def draw(self):\n",
    "        print(f'{self._title}: Start drawing child class Pencil')\n",
    "\n",
    "\n",
    "class Handle(Stationery):\n",
    "    def draw(self):\n",
    "        print(f'{self._title}: Start drawing child class Handle')\n",
    "\n",
    "\n",
    "stationery = Stationery(\"Parent title\")\n",
    "stationery.draw()\n",
    "\n",
    "pen = Pen(\"Pen Title\")\n",
    "pen.draw()\n",
    "\n",
    "pencil = Pencil(\"Pencil Title\")\n",
    "pencil.draw()\n",
    "\n",
    "handle = Handle(\"Handle Title\")\n",
    "handle.draw()"
   ]
  },
  {
   "cell_type": "markdown",
   "metadata": {},
   "source": [
    "[Back to table of contents.](#toc)\n",
    "___"
   ]
  }
 ],
 "metadata": {
  "kernelspec": {
   "display_name": "Python 3",
   "language": "python",
   "name": "python3"
  },
  "language_info": {
   "codemirror_mode": {
    "name": "ipython",
    "version": 3
   },
   "file_extension": ".py",
   "mimetype": "text/x-python",
   "name": "python",
   "nbconvert_exporter": "python",
   "pygments_lexer": "ipython3",
   "version": "3.8.8"
  }
 },
 "nbformat": 4,
 "nbformat_minor": 4
}
