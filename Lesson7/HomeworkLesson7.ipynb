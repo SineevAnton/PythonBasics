{
 "cells": [
  {
   "cell_type": "markdown",
   "metadata": {},
   "source": [
    "## <center> Homework </center>\n",
    "___\n",
    "### <center> Lesson 7. </center>\n",
    "___\n",
    "___"
   ]
  },
  {
   "cell_type": "markdown",
   "metadata": {},
   "source": [
    "<a id = 'toc'></a>\n",
    "### Table of contents\n",
    "___\n",
    "[1. Task 1.](#Task_1)\n",
    "   \n",
    "[2. Task 2.](#Task_2)\n",
    "   \n",
    "[3. Task 3.](#Task_3)\n",
    "___\n",
    "___"
   ]
  },
  {
   "cell_type": "markdown",
   "metadata": {},
   "source": [
    "<a id = 'Task_1'></a>\n",
    "___\n",
    "### Task 1.\n",
    "\n",
    "Реализовать класс Matrix (матрица). Обеспечить перегрузку конструктора класса (метод __init__()), \n",
    "который должен принимать данные (список списков) для формирования матрицы.\n",
    "Подсказка: матрица — система некоторых математических величин, расположенных в виде прямоугольной схемы.\n",
    "Примеры матриц вы найдете в методичке.\n",
    "Следующий шаг — реализовать перегрузку метода __str__() для вывода матрицы в привычном виде.\n",
    "Далее реализовать перегрузку метода __add__() для реализации операции сложения двух объектов класса Matrix (двух матриц). \n",
    "Результатом сложения должна быть новая матрица.\n",
    "Подсказка: сложение элементов матриц выполнять поэлементно — \n",
    "первый элемент первой строки первой матрицы складываем с первым элементом первой строки второй матрицы и т.д."
   ]
  },
  {
   "cell_type": "code",
   "execution_count": 2,
   "metadata": {},
   "outputs": [
    {
     "name": "stdout",
     "output_type": "stream",
     "text": [
      "Input number of rows: 4\n",
      "Input number of columns: 2\n",
      "Initial matrix is: \n",
      "17 12\n",
      "20 11\n",
      "14 15\n",
      "15 8\n",
      "\n",
      "Another matrix is: \n",
      "0 11\n",
      "10 10\n",
      "9 4\n",
      "4 20\n",
      "\n",
      "Result matrix: \n",
      "17 23\n",
      "30 21\n",
      "23 19\n",
      "19 28\n",
      "\n"
     ]
    }
   ],
   "source": [
    "import random as rnd\n",
    "\n",
    "class Matrix:\n",
    "    def __init__(self, matrix):\n",
    "        self.__matrix = matrix\n",
    "        self.__row_num = len(matrix)\n",
    "        self.__col_num = len(matrix[0])\n",
    "\n",
    "    def __str__(self):\n",
    "        res_str = \"\"\n",
    "        for row in self.__matrix:\n",
    "            res_str += \" \".join([str(num) for num in row]) + \"\\n\"\n",
    "        return res_str\n",
    "\n",
    "    def __add__(self, other):\n",
    "        res_matrix = [[]]\n",
    "        other_row_num = len(other.__matrix)\n",
    "        other_col_num = len(other.__matrix[0])\n",
    "        if self.__row_num == other_row_num and self.__col_num == other_col_num:\n",
    "            res_matrix = [[self.__matrix[j][i] + other.__matrix[j][i] for i in range(self.__col_num)] for j in range(self.__row_num)]\n",
    "        else:\n",
    "            print(\"Operation is not possible for matrices of different sizes!\")\n",
    "        return Matrix(res_matrix)\n",
    "\n",
    "\n",
    "numRows = int(input(\"Input number of rows: \"))\n",
    "numCols = int(input(\"Input number of columns: \"))\n",
    "list_of_lists = [[rnd.randint(0, 20) for _ in range(numCols)] for x in range(numRows)]\n",
    "matr = Matrix(list_of_lists)\n",
    "print(f'Initial matrix is: \\n{matr}')\n",
    "another_list_of_lists = [[rnd.randint(0, 20) for _ in range(numCols)] for x in range(numRows)]\n",
    "another_matr = Matrix(another_list_of_lists)\n",
    "print(f'Another matrix is: \\n{another_matr}')\n",
    "print(f'Result matrix: \\n{matr + another_matr}')"
   ]
  },
  {
   "cell_type": "markdown",
   "metadata": {},
   "source": [
    "[Back to table of contents.](#toc)\n",
    "___"
   ]
  },
  {
   "cell_type": "markdown",
   "metadata": {},
   "source": [
    "<a id = 'Task_2'></a>\n",
    "___\n",
    "### Task 2.\n",
    "\n",
    "Реализовать проект расчета суммарного расхода ткани на производство одежды. \n",
    "Основная сущность (класс) этого проекта — одежда, которая может иметь определенное название. \n",
    "К типам одежды в этом проекте относятся пальто и костюм. \n",
    "У этих типов одежды существуют параметры: размер (для пальто) и рост (для костюма). \n",
    "Это могут быть обычные числа: V и H, соответственно.\n",
    "Для определения расхода ткани по каждому типу одежды использовать формулы: \n",
    "для пальто (V/6.5 + 0.5), для костюма (2 * H + 0.3). \n",
    "Проверить работу этих методов на реальных данных.\n",
    "Реализовать общий подсчет расхода ткани. Проверить на практике полученные на этом уроке знания: \n",
    "реализовать абстрактные классы для основных классов проекта, проверить на практике работу декоратора @property."
   ]
  },
  {
   "cell_type": "code",
   "execution_count": 3,
   "metadata": {
    "scrolled": false
   },
   "outputs": [
    {
     "name": "stdout",
     "output_type": "stream",
     "text": [
      "Input int size for a coat: 6\n",
      "Tissue consumption for the coat in size 6: 1.4230769230769231\n",
      "Input height for a suit: 2\n",
      "Tissue consumption for the suit with height 2.0: 4.3\n"
     ]
    }
   ],
   "source": [
    "class Clothes():\n",
    "    def get_tissue_consumption(self):\n",
    "        pass\n",
    "\n",
    "    @property\n",
    "    def tissue_consumption(self):\n",
    "        pass\n",
    "\n",
    "\n",
    "class Suit(Clothes):\n",
    "    def __init__(self, height):\n",
    "        self.__height = height\n",
    "\n",
    "    @property\n",
    "    def height(self):\n",
    "        return self.__height\n",
    "\n",
    "    def get_tissue_consumption(self):\n",
    "        return 2 * self.__height + 0.3\n",
    "\n",
    "    @property\n",
    "    def tissue_consumption(self):\n",
    "        return self.get_tissue_consumption()\n",
    "\n",
    "class Coat(Clothes):\n",
    "    def __init__(self, size):\n",
    "        self.__size = size\n",
    "\n",
    "    @property\n",
    "    def size(self):\n",
    "        return self.__size\n",
    "\n",
    "    def get_tissue_consumption(self):\n",
    "        return self.__size/6.5 + 0.5\n",
    "\n",
    "    @property\n",
    "    def tissue_consumption(self):\n",
    "        return self.get_tissue_consumption()\n",
    "\n",
    "\n",
    "size = int(input(\"Input int size for a coat: \"))\n",
    "coat = Coat(size)\n",
    "print(f'Tissue consumption for the coat in size {coat.size}: {coat.tissue_consumption}')\n",
    "\n",
    "height = float(input(\"Input height for a suit: \"))\n",
    "suit = Suit(height)\n",
    "print(f'Tissue consumption for the suit with height {suit.height}: {suit.tissue_consumption}')"
   ]
  },
  {
   "cell_type": "markdown",
   "metadata": {},
   "source": [
    "[Back to table of contents.](#toc)\n",
    "___"
   ]
  },
  {
   "cell_type": "markdown",
   "metadata": {},
   "source": [
    "<a id = 'Task_3'></a>\n",
    "___\n",
    "### Task 3.\n",
    "\n",
    "Реализовать программу работы с органическими клетками. Необходимо создать класс Клетка. \n",
    "В его конструкторе инициализировать параметр, соответствующий количеству клеток (целое число). \n",
    "В классе должны быть реализованы методы перегрузки арифметических операторов: \n",
    "сложение (__add__()), вычитание (__sub__()), умножение (__mul__()), деление (__truediv__()).\n",
    "Данные методы должны применяться только к клеткам и выполнять увеличение, уменьшение, \n",
    "умножение и обычное (не целочисленное) деление клеток, соответственно. \n",
    "В методе деления должно осуществляться округление значения до целого числа.\n",
    "Сложение. Объединение двух клеток. При этом число ячеек общей клетки должно равняться сумме ячеек исходных двух клеток.\n",
    "Вычитание. Участвуют две клетки. Операцию необходимо выполнять только если разность количества ячеек двух клеток больше нуля, иначе выводить соответствующее сообщение.\n",
    "Умножение. Создается общая клетка из двух. \n",
    "Число ячеек общей клетки определяется как произведение количества ячеек этих двух клеток.\n",
    "Деление. Создается общая клетка из двух. \n",
    "Число ячеек общей клетки определяется как целочисленное деление количества ячеек этих двух клеток.\n",
    "В классе необходимо реализовать метод make_order(), принимающий экземпляр класса и количество ячеек в ряду. \n",
    "Данный метод позволяет организовать ячейки по рядам.\n",
    "Метод должен возвращать строку вида *****\\n*****\\n*****..., где количество ячеек между \\n равно переданному аргументу. \n",
    "Если ячеек на формирование ряда не хватает, то в последний ряд записываются все оставшиеся.\n",
    "Например, количество ячеек клетки равняется 12, количество ячеек в ряду — 5. \n",
    "Тогда метод make_order() вернет строку: *****\\n*****\\n**.\n",
    "Или, количество ячеек клетки равняется 15, количество ячеек в ряду — 5. \n",
    "Тогда метод make_order() вернет строку: *****\\n*****\\n*****.\n",
    "Подсказка: подробный список операторов для перегрузки доступен по ссылке."
   ]
  },
  {
   "cell_type": "code",
   "execution_count": 1,
   "metadata": {},
   "outputs": [
    {
     "name": "stdout",
     "output_type": "stream",
     "text": [
      "Input 1st count of cells: 6\n",
      "Input 2st count of cells: 4\n",
      "Input 3rd count of cells: 2\n",
      "Input 4th count of cells: 1\n",
      "Cell 1 + Cell 2 = 10 cells\n",
      "Cell 2 - Cell 3 = 2 cells\n",
      "Cell 3 * Cell 4 = 2 cells\n",
      "Cell 4 / Cell 1 = 0 cells\n",
      "Input cells in row: 8\n",
      "Make order for Cell 1: \n",
      "******\n",
      "Make order for Cell 2: \n",
      "****\n",
      "Make order for Cell 3: \n",
      "**\n",
      "Make order for Cell 4: \n",
      "*\n"
     ]
    }
   ],
   "source": [
    "class Cell:\n",
    "    def __init__(self, count):\n",
    "        self.__count = count\n",
    "\n",
    "    @property\n",
    "    def count(self):\n",
    "        return self.__count\n",
    "\n",
    "    @count.setter\n",
    "    def count(self, count):\n",
    "        self.__count = count\n",
    "\n",
    "    def __add__(self, other):\n",
    "        return Cell(self.count + other.count)\n",
    "\n",
    "    def __sub__(self, other):\n",
    "        diff = self.count - other.count\n",
    "        if diff > 0:\n",
    "            return Cell(diff)\n",
    "        else:\n",
    "            print(\"Operation is impossible because difference is negative...\")\n",
    "            return None\n",
    "\n",
    "    def __mul__(self, other):\n",
    "        return Cell(self.count * other.count)\n",
    "\n",
    "    def __truediv__(self, other):\n",
    "        return Cell(int(self.count / other.count))\n",
    "\n",
    "    def __str__(self):\n",
    "        return f'{self.count} cells'\n",
    "\n",
    "    def make_order(self, cells_in_row):\n",
    "        full_rows = self.count // cells_in_row\n",
    "        mod_row = self.count % cells_in_row\n",
    "        str_full_rows = \"\\n\".join(['*' * cells_in_row for _ in range(full_rows)])\n",
    "        if mod_row != 0 and str_full_rows:\n",
    "            str_full_rows += \"\\n\"\n",
    "        str_full_rows += '*' * mod_row\n",
    "        return str_full_rows\n",
    "\n",
    "\n",
    "cell1 = Cell(int(input(\"Input 1st count of cells: \")))\n",
    "cell2 = Cell(int(input(\"Input 2st count of cells: \")))\n",
    "cell3 = Cell(int(input(\"Input 3rd count of cells: \")))\n",
    "cell4 = Cell(int(input(\"Input 4th count of cells: \")))\n",
    "\n",
    "print(f'Cell 1 + Cell 2 = {cell1 + cell2}')\n",
    "print(f'Cell 2 - Cell 3 = {cell2 - cell3}')\n",
    "print(f'Cell 3 * Cell 4 = {cell3 * cell4}')\n",
    "print(f'Cell 4 / Cell 1 = {cell4 / cell1}')\n",
    "\n",
    "cells_in_row = int(input(\"Input cells in row: \"))\n",
    "print(f'Make order for Cell 1: \\n{cell1.make_order(cells_in_row)}')\n",
    "print(f'Make order for Cell 2: \\n{cell2.make_order(cells_in_row)}')\n",
    "print(f'Make order for Cell 3: \\n{cell3.make_order(cells_in_row)}')\n",
    "print(f'Make order for Cell 4: \\n{cell4.make_order(cells_in_row)}')"
   ]
  },
  {
   "cell_type": "markdown",
   "metadata": {},
   "source": [
    "[Back to table of contents.](#toc)\n",
    "___"
   ]
  }
 ],
 "metadata": {
  "kernelspec": {
   "display_name": "Python 3",
   "language": "python",
   "name": "python3"
  },
  "language_info": {
   "codemirror_mode": {
    "name": "ipython",
    "version": 3
   },
   "file_extension": ".py",
   "mimetype": "text/x-python",
   "name": "python",
   "nbconvert_exporter": "python",
   "pygments_lexer": "ipython3",
   "version": "3.8.8"
  }
 },
 "nbformat": 4,
 "nbformat_minor": 4
}
