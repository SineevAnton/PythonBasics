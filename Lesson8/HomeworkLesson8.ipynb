{
 "cells": [
  {
   "cell_type": "markdown",
   "metadata": {},
   "source": [
    "## <center> Homework </center>\n",
    "___\n",
    "### <center> Lesson 8. </center>\n",
    "___\n",
    "___"
   ]
  },
  {
   "cell_type": "markdown",
   "metadata": {},
   "source": [
    "<a id = 'toc'></a>\n",
    "### Table of contents\n",
    "___\n",
    "[1. Task 1.](#Task_1)\n",
    "   \n",
    "[2. Task 2.](#Task_2)\n",
    "   \n",
    "[3. Task 3.](#Task_3)\n",
    "   \n",
    "[4. Task 4.](#Task_4)\n",
    "   \n",
    "[5. Task 5.](#Task_5)\n",
    "\n",
    "[6. Task 6.](#Task_6)\n",
    "\n",
    "[7. Task 7.](#Task_7)\n",
    "___\n",
    "___"
   ]
  },
  {
   "cell_type": "markdown",
   "metadata": {},
   "source": [
    "<a id = 'Task_1'></a>\n",
    "___\n",
    "### Task 1.\n",
    "\n",
    "Реализовать класс «Дата», функция-конструктор которого должна принимать дату в виде\n",
    "строки формата «день-месяц-год». В рамках класса реализовать два метода. Первый,\n",
    "с декоратором @classmethod. Он должен извлекать число, месяц, год и преобразовывать\n",
    "их тип к типу «Число». Второй, с декоратором @staticmethod, должен проводить валидацию числа,\n",
    "месяца и года (например, месяц — от 1 до 12). Проверить работу полученной структуры на реальных данных.\n"
   ]
  },
  {
   "cell_type": "code",
   "execution_count": 3,
   "metadata": {},
   "outputs": [
    {
     "name": "stdout",
     "output_type": "stream",
     "text": [
      "Введите дату в формате dd-mm-yyyy: 32-15-1122\n",
      "Дата не верная, день не может быть больше 31\n"
     ]
    }
   ],
   "source": [
    "class Data:\n",
    "    def __init__(self, day):\n",
    "        self.day =day\n",
    "        \n",
    "    @classmethod\n",
    "    def day_to_int(cls, day):\n",
    "        list1_2 = day.split(\"-\")\n",
    "        if cls.ValidDay(list1_2): \n",
    "            list1_2 = [int(x) for x in list1_2]\n",
    "            print(\"Вы ввели день: {0} месяц: {1} год: {2}\".format(list1_2[0], list1_2[1], list1_2[2]))\n",
    "        \n",
    "    @staticmethod\n",
    "    def ValidDay(list1_2):\n",
    "       \n",
    "        if len(list1_2) != 3:\n",
    "            print(\"Дата не верная, введены не все даныне\")\n",
    "        try:\n",
    "            if int(list1_2[0]) > 31:\n",
    "               print(\"Дата не верная, день не может быть больше 31\")\n",
    "               return False\n",
    "        except:\n",
    "            print(\"Дата не верная, День не правильно заполнен\")\n",
    "            return False\n",
    "        \n",
    "        try:\n",
    "            if int(list1_2[1]) > 12:\n",
    "               print(\"Дата не верная, месяц не может быть больше 12\")\n",
    "               return False\n",
    "        except:\n",
    "             print(\"Дата не верная, месяц не правильно заполнен\")\n",
    "             return False\n",
    "        try:\n",
    "             int(list1_2[2])\n",
    "        except:\n",
    "             print(\"Дата не верная, год не правильно заполнен\")\n",
    "             return False\n",
    "        return True\n",
    "\n",
    "day = input(\"Введите дату в формате dd-mm-yyyy: \")\n",
    "dat = Data(day)\n",
    "dat.day_to_int(day)"
   ]
  },
  {
   "cell_type": "markdown",
   "metadata": {},
   "source": [
    "[Back to table of contents.](#toc)\n",
    "___"
   ]
  },
  {
   "cell_type": "markdown",
   "metadata": {},
   "source": [
    "<a id = 'Task_2'></a>\n",
    "___\n",
    "### Task 2.\n",
    "\n",
    "Создайте собственный класс-исключение, обрабатывающий ситуацию\n",
    "деления на ноль. Проверьте его работу на данных, вводимых пользователем.\n",
    "При вводе нуля в качестве делителя программа должна корректно\n",
    "обработать эту ситуацию и не завершиться с ошибкой."
   ]
  },
  {
   "cell_type": "code",
   "execution_count": 6,
   "metadata": {
    "scrolled": true
   },
   "outputs": [
    {
     "name": "stdout",
     "output_type": "stream",
     "text": [
      "На 0 делить нельзя!\n",
      "Результат деления 1.20\n"
     ]
    }
   ],
   "source": [
    "class dev():\n",
    "    def __init__(self, num1, num2):\n",
    "        self.num1 = float(num1)\n",
    "        self.num2 = float(num2)\n",
    "\n",
    "    def exept(self):\n",
    "        try:\n",
    "            return('Результат деления %.2f' % (self.num1/self.num2))\n",
    "        except ZeroDivisionError:\n",
    "            return \"На 0 делить нельзя!\"\n",
    "\n",
    "\n",
    "a = dev(2,0)\n",
    "print(a.exept())\n",
    "b = dev(6,5)\n",
    "print(b.exept())"
   ]
  },
  {
   "cell_type": "markdown",
   "metadata": {},
   "source": [
    "[Back to table of contents.](#toc)\n",
    "___"
   ]
  },
  {
   "cell_type": "markdown",
   "metadata": {},
   "source": [
    "<a id = 'Task_3'></a>\n",
    "___\n",
    "### Task 3.\n",
    "\n",
    "Создайте собственный класс-исключение, который должен проверять содержимое\n",
    "списка на наличие только чисел. Проверить работу исключения на реальном примере.\n",
    "Запрашивать у пользователя данные и заполнять список необходимо только числами.\n",
    "Класс-исключение должен контролировать типы данных элементов списка."
   ]
  },
  {
   "cell_type": "code",
   "execution_count": 7,
   "metadata": {
    "scrolled": false
   },
   "outputs": [
    {
     "name": "stdout",
     "output_type": "stream",
     "text": [
      "Введите значение: 45\n",
      "Введите значение: 32\n",
      "Введите значение: 34\n",
      "Введите значение: 777\n",
      "Введите значение: 234\n",
      "Введите значение: 15\n",
      "Введите значение: 6\n",
      "Введите значение: 5\n",
      "Введите значение: 332\n",
      "Введите значение: y\n",
      "Введите значение: 5\n",
      "Введите значение: 4\n",
      "Введите значение: 2\n",
      "Введите значение: 4\n",
      "Введите значение: 5\n",
      "Введите значение: g\n",
      "Введите значение: sdf\n",
      "Введите значение: \n",
      "['4', '5', '3', '2', '3', '4', '7', '7', '7', '2', '3', '4', '1', '5', '6', '5', '3', '3', '2', '5', '4', '2', '4', '5']\n"
     ]
    }
   ],
   "source": [
    "class err():\n",
    "    def inp(self):\n",
    "        new_d= []\n",
    "        while(True):\n",
    "            st = str(input(\"Введите значение: \"))\n",
    "            if st !='':\n",
    "                for i in st:\n",
    "                    if i.isdigit():\n",
    "                        new_d.append(i)\n",
    "            else:\n",
    "                break\n",
    "        print(new_d)\n",
    "\n",
    "a = err()\n",
    "a.inp()"
   ]
  },
  {
   "cell_type": "markdown",
   "metadata": {},
   "source": [
    "[Back to table of contents.](#toc)\n",
    "___"
   ]
  },
  {
   "cell_type": "markdown",
   "metadata": {},
   "source": [
    "<a id = 'Task_4'></a>\n",
    "___\n",
    "### Task 4.\n",
    "\n",
    "Начните работу над проектом «Склад оргтехники». Создайте класс, описывающий склад. \n",
    "А также класс «Оргтехника», который будет базовым для классов-наследников. \n",
    "Эти классы — конкретные типы оргтехники (принтер, сканер, ксерокс). \n",
    "В базовом классе определить параметры, общие для приведенных типов. \n",
    "В классах-наследниках реализовать параметры, уникальные для каждого типа оргтехники."
   ]
  },
  {
   "cell_type": "code",
   "execution_count": 8,
   "metadata": {
    "scrolled": true
   },
   "outputs": [],
   "source": [
    "class sklad():\n",
    "    def __init__(self):\n",
    "        self.arr = []\n",
    "\n",
    "class tech():\n",
    "    def __init__(self, price, color, weight):\n",
    "        self.price = price\n",
    "        self. color = color\n",
    "        self.weight = weight\n",
    "\n",
    "class printer(tech):\n",
    "    def __init__(self, price, color, weight, speed):\n",
    "        super().__init__(price, color, weight)\n",
    "        self.speed = speed\n",
    "\n",
    "\n",
    "class scaner(tech):\n",
    "    def __init__(self, price, color, weight, lamp):\n",
    "        super().__init__(price, color, weight)\n",
    "        self.lamp = lamp\n",
    "\n",
    "class xerox(tech):\n",
    "    def __init__(self, price, color, weight, pages):\n",
    "        super().__init__(price, color, weight)\n",
    "        self.pages = pages\n",
    "\n",
    "pr = printer(100, \"white\", 3.2, 16)"
   ]
  },
  {
   "cell_type": "markdown",
   "metadata": {},
   "source": [
    "[Back to table of contents.](#toc)\n",
    "___"
   ]
  },
  {
   "cell_type": "markdown",
   "metadata": {},
   "source": [
    "<a id = 'Task_5'></a>\n",
    "___\n",
    "### Task 5.\n",
    "\n",
    "Продолжить работу над первым заданием. \n",
    "Разработайте методы, которые отвечают за приём оргтехники на склад и передачу\n",
    "в определённое подразделение компании. Для хранения данных о наименовании и\n",
    "количестве единиц оргтехники, а также других данных, можно использовать любую\n",
    "подходящую структуру (например, словарь)."
   ]
  },
  {
   "cell_type": "code",
   "execution_count": 9,
   "metadata": {
    "scrolled": true
   },
   "outputs": [
    {
     "name": "stdout",
     "output_type": "stream",
     "text": [
      "Был добавлен printer  в количестве 4 шт. Актуальное состояние склада {'printer': 7, 'scaner': 0, 'xerox': 0}\n",
      "Был списан printer  в количестве 2 шт. Актуальное состояние склада {'printer': 5, 'scaner': 0, 'xerox': 0}\n"
     ]
    }
   ],
   "source": [
    "class sklad():\n",
    "    def __init__(self):\n",
    "        self.arr = {\"printer\": 3, \"scaner\": 0, \"xerox\": 0}\n",
    "\n",
    "    def priem(self, name, quantity):\n",
    "        self.name = name\n",
    "        self.quantity = int(quantity)\n",
    "        if self.name == 'printer':\n",
    "            self.arr[\"printer\"] = int(self.arr.get(\"printer\")) + self.quantity\n",
    "        if self.name == 'scaner':\n",
    "            self.arr[\"scaner\"] = int(self.arr.get(\"scaner\")) + self.quantity\n",
    "        if self.name == 'xerox':\n",
    "            self.arr[\"xerox\"] = int(self.arr.get(\"xerox\")) + self.quantity\n",
    "        print(f'Был добавлен {self.name}  в количестве {self.quantity} шт. Актуальное состояние склада {self.arr}')\n",
    "\n",
    "    def spisanie(self, name, quantity):\n",
    "        self.name = name\n",
    "        self.quantity = int(quantity)\n",
    "        if self.name == 'printer':\n",
    "            self.arr[\"printer\"] = int(self.arr.get(\"printer\")) - self.quantity\n",
    "        if self.name == 'scaner':\n",
    "            self.arr[\"scaner\"] = int(self.arr.get(\"scaner\")) - self.quantity\n",
    "        if self.name == 'xerox':\n",
    "            self.arr[\"xerox\"] = int(self.arr.get(\"xerox\")) - self.quantity\n",
    "        print(f'Был списан {self.name}  в количестве {self.quantity} шт. Актуальное состояние склада {self.arr}')\n",
    "\n",
    "class tech():\n",
    "    def __init__(self, price, color, weight):\n",
    "        self.price = price\n",
    "        self. color = color\n",
    "        self.weight = weight\n",
    "\n",
    "class printer(tech):\n",
    "    def __init__(self, price, color, weight, speed):\n",
    "        super().__init__(price, color, weight)\n",
    "        self.speed = speed\n",
    "\n",
    "\n",
    "class scaner(tech):\n",
    "    def __init__(self, price, color, weight, lamp):\n",
    "        super().__init__(price, color, weight)\n",
    "        self.lamp = lamp\n",
    "\n",
    "class xerox(tech):\n",
    "    def __init__(self, price, color, weight, pages):\n",
    "        super().__init__(price, color, weight)\n",
    "        self.pages = pages\n",
    "\n",
    "pr = printer(100, \"white\", 3.2, 16)\n",
    "a = sklad()\n",
    "a.priem(\"printer\", 4)\n",
    "a.spisanie(\"printer\", 2)"
   ]
  },
  {
   "cell_type": "markdown",
   "metadata": {},
   "source": [
    "[Back to table of contents.](#toc)\n",
    "___"
   ]
  },
  {
   "cell_type": "markdown",
   "metadata": {},
   "source": [
    "<a id = 'Task_6'></a>\n",
    "___\n",
    "### Task 6.\n",
    "\n",
    "Продолжить работу над вторым заданием. \n",
    "Продолжить работу над вторым заданием. Реализуйте механизм валидации вводимых\n",
    "пользователем данных. Например, для указания количества принтеров, отправленных на склад,\n",
    "нельзя использовать строковый тип данных."
   ]
  },
  {
   "cell_type": "code",
   "execution_count": 10,
   "metadata": {},
   "outputs": [
    {
     "name": "stdout",
     "output_type": "stream",
     "text": [
      "Был добавлен printer  в количестве 5 шт. Актуальное состояние склада {'printer': 5, 'scaner': 0, 'xerox': 0}\n",
      "Введены некорректные данные\n",
      "Был списан printer  в количестве 2 шт. Актуальное состояние склада {'printer': 3, 'scaner': 0, 'xerox': 0}\n"
     ]
    }
   ],
   "source": [
    "class sklad():\n",
    "    def __init__(self):\n",
    "        self.arr = {\"printer\": 0, \"scaner\": 0, \"xerox\": 0}\n",
    "\n",
    "    def priem(self, name, quantity):\n",
    "        self.quantity = quantity\n",
    "        self.name = name\n",
    "        try:\n",
    "            if self.name == 'printer':\n",
    "                self.arr[\"printer\"] = int(self.arr.get(\"printer\")) + self.quantity\n",
    "            if self.name == 'scaner':\n",
    "                self.arr[\"scaner\"] = int(self.arr.get(\"scaner\")) + self.quantity\n",
    "            if self.name == 'xerox':\n",
    "                self.arr[\"xerox\"] = int(self.arr.get(\"xerox\")) + self.quantity\n",
    "            print(f'Был добавлен {self.name}  в количестве {self.quantity} шт. Актуальное состояние склада {self.arr}')\n",
    "        except ValueError:\n",
    "            print(\"Введены некорректные данные\")\n",
    "        except TypeError:\n",
    "            print(\"Введены некорректные данные\")\n",
    "\n",
    "    def spisanie(self, name, quantity):\n",
    "        self.quantity = quantity\n",
    "        self.name = name\n",
    "\n",
    "        try:\n",
    "            if self.name == 'printer':\n",
    "                self.arr[\"printer\"] = int(self.arr.get(\"printer\")) - quantity\n",
    "            if self.name == 'scaner':\n",
    "                self.arr[\"scaner\"] = int(self.arr.get(\"scaner\")) - quantity\n",
    "            if self.name == 'xerox':\n",
    "                self.arr[\"xerox\"] = int(self.arr.get(\"xerox\")) - quantity\n",
    "            print(f'Был списан {self.name}  в количестве {quantity} шт. Актуальное состояние склада {self.arr}')\n",
    "        except ValueError:\n",
    "            print(\"Введены некорректные данные\")\n",
    "        except TypeError:\n",
    "            print(\"Введены некорректные данные\")\n",
    "\n",
    "\n",
    "class tech():\n",
    "    def __init__(self, price, color, weight):\n",
    "        self.price = price\n",
    "        self. color = color\n",
    "        self.weight = weight\n",
    "\n",
    "class printer(tech):\n",
    "    def __init__(self, price, color, weight, speed):\n",
    "        super().__init__(price, color, weight)\n",
    "        self.speed = speed\n",
    "\n",
    "\n",
    "class scaner(tech):\n",
    "    def __init__(self, price, color, weight, lamp):\n",
    "        super().__init__(price, color, weight)\n",
    "        self.lamp = lamp\n",
    "\n",
    "class xerox(tech):\n",
    "    def __init__(self, price, color, weight, pages):\n",
    "        super().__init__(price, color, weight)\n",
    "        self.pages = pages\n",
    "\n",
    "pr = printer(100, \"white\", 3.2, 16)\n",
    "a = sklad()\n",
    "a.priem(\"printer\", 5)\n",
    "a.priem(\"scaner\", \"r\")\n",
    "\n",
    "a.spisanie(\"printer\", 2)"
   ]
  },
  {
   "cell_type": "markdown",
   "metadata": {},
   "source": [
    "[Back to table of contents.](#toc)\n",
    "___"
   ]
  },
  {
   "cell_type": "markdown",
   "metadata": {},
   "source": [
    "<a id = 'Task_7'></a>\n",
    "___\n",
    "### Task 7.\n",
    "\n",
    "Реализовать проект «Операции с комплексными числами». Создайте класс «Комплексное число», реализуйте перегрузку методов сложения и умножения комплексных чисел. Проверьте работу проекта, создав экземпляры класса (комплексные числа) и выполнив сложение и умножение созданных экземпляров. Проверьте корректность полученного результата.\n",
    "Реализовать проект «Операции с комплексными числами». Создайте класс «Комплексное число».\n",
    "Реализуйте перегрузку методов сложения и умножения комплексных чисел.\n",
    "Проверьте работу проекта. Для этого создаёте экземпляры класса (комплексные числа),\n",
    "выполните сложение и умножение созданных экземпляров. Проверьте корректность полученного результата."
   ]
  },
  {
   "cell_type": "code",
   "execution_count": 11,
   "metadata": {},
   "outputs": [
    {
     "name": "stdout",
     "output_type": "stream",
     "text": [
      "z = 2 + 3 * i\n",
      "Сумма n1 и n2 равна\n",
      "z = 6 + 8 * i\n",
      "Произведение n1 и n2 равно\n",
      "z = -7 + 22 * i\n"
     ]
    }
   ],
   "source": [
    "class ComplexNumber:\n",
    "    def __init__(self, cel, mnim):\n",
    "        self.cel = cel\n",
    "        self.mnim = mnim\n",
    "\n",
    "    def __add__(self, other):\n",
    "        print(f'Сумма n1 и n2 равна')\n",
    "        return f'z = {self.cel + other.cel} + {self.mnim + other.mnim} * i'\n",
    "\n",
    "    def __mul__(self, other):\n",
    "        print(f'Произведение n1 и n2 равно')\n",
    "        return f'z = {(self.cel * other.cel - self.mnim * other.mnim)} + {self.cel * other.mnim + other.cel * self.mnim} * i'\n",
    "\n",
    "    def __str__(self):\n",
    "        return f'z = {self.cel} + {self.mnim} * i'\n",
    "n1 = ComplexNumber(2, 3)\n",
    "n2 = ComplexNumber(4, 5)\n",
    "print(n1)\n",
    "print(n1 + n2)\n",
    "print(n1 * n2)"
   ]
  },
  {
   "cell_type": "markdown",
   "metadata": {},
   "source": [
    "[Back to table of contents.](#toc)\n",
    "___"
   ]
  },
  {
   "cell_type": "code",
   "execution_count": null,
   "metadata": {},
   "outputs": [],
   "source": []
  }
 ],
 "metadata": {
  "kernelspec": {
   "display_name": "Python 3",
   "language": "python",
   "name": "python3"
  },
  "language_info": {
   "codemirror_mode": {
    "name": "ipython",
    "version": 3
   },
   "file_extension": ".py",
   "mimetype": "text/x-python",
   "name": "python",
   "nbconvert_exporter": "python",
   "pygments_lexer": "ipython3",
   "version": "3.8.8"
  }
 },
 "nbformat": 4,
 "nbformat_minor": 4
}
